{
  "nbformat": 4,
  "nbformat_minor": 0,
  "metadata": {
    "colab": {
      "name": "Python+Implementation.ipynb",
      "provenance": [],
      "collapsed_sections": [],
      "include_colab_link": true
    },
    "kernelspec": {
      "name": "python3",
      "display_name": "Python 3"
    },
    "language_info": {
      "name": "python"
    }
  },
  "cells": [
    {
      "cell_type": "markdown",
      "metadata": {
        "id": "view-in-github",
        "colab_type": "text"
      },
      "source": [
        "<a href=\"https://colab.research.google.com/github/rkcraushan333/python-intro/blob/main/Python%2BImplementation.ipynb\" target=\"_parent\"><img src=\"https://colab.research.google.com/assets/colab-badge.svg\" alt=\"Open In Colab\"/></a>"
      ]
    },
    {
      "cell_type": "markdown",
      "metadata": {
        "id": "4soZ0-j6Zb_D"
      },
      "source": [
        "**INTRO TO PYTHON**"
      ]
    },
    {
      "cell_type": "markdown",
      "metadata": {
        "id": "VvT-HQCfZocc"
      },
      "source": [
        "***Quick things about case and camelcase:***"
      ]
    },
    {
      "cell_type": "code",
      "metadata": {
        "colab": {
          "base_uri": "https://localhost:8080/"
        },
        "id": "R85wBG8VZGBt",
        "outputId": "edb14864-3e43-460c-90f4-1ffa3d5d3b4e"
      },
      "source": [
        "a = 5\n",
        "A = 9\n",
        "print(a,A)"
      ],
      "execution_count": 2,
      "outputs": [
        {
          "output_type": "stream",
          "name": "stdout",
          "text": [
            "5 9\n"
          ]
        }
      ]
    },
    {
      "cell_type": "code",
      "metadata": {
        "id": "Sj9ep0ivZW1E",
        "colab": {
          "base_uri": "https://localhost:8080/"
        },
        "outputId": "fb50bc01-dbe7-47dc-a6fa-950ed1169e18"
      },
      "source": [
        "answer = input()\n",
        "print(answer)\n",
        "type(answer)\n",
        "print(int(answer)+90)\n",
        "type(answer)"
      ],
      "execution_count": 10,
      "outputs": [
        {
          "output_type": "stream",
          "name": "stdout",
          "text": [
            "11\n",
            "11\n",
            "101\n"
          ]
        },
        {
          "output_type": "execute_result",
          "data": {
            "text/plain": [
              "str"
            ]
          },
          "metadata": {},
          "execution_count": 10
        }
      ]
    },
    {
      "cell_type": "markdown",
      "metadata": {
        "id": "GjSZZNGFZxHc"
      },
      "source": [
        "***Variables and Data Types:***"
      ]
    },
    {
      "cell_type": "code",
      "metadata": {
        "id": "xTMeZtjQZ2JT"
      },
      "source": [
        "boolean1 = True\n",
        "boolean2 = False\n",
        "float1 = 1.0\n",
        "int1 = 1\n",
        "string1 = 'hello people of the internet'\n",
        "string2 = \"False\""
      ],
      "execution_count": null,
      "outputs": []
    },
    {
      "cell_type": "code",
      "metadata": {
        "colab": {
          "base_uri": "https://localhost:8080/"
        },
        "id": "pxQrTLHfaNEE",
        "outputId": "1952fa3f-b8ae-4774-dba6-35bdfb67f0c0"
      },
      "source": [
        "float_int = int(float1)\n",
        "bool1_str = str(boolean1)\n",
        "str2_bool = bool(string2)\n",
        "int_float = float(int1)\n",
        "\n",
        "print(type(bool1_str))\n",
        "print(bool1_str)"
      ],
      "execution_count": null,
      "outputs": [
        {
          "output_type": "stream",
          "name": "stdout",
          "text": [
            "<class 'str'>\n",
            "True\n"
          ]
        }
      ]
    },
    {
      "cell_type": "code",
      "metadata": {
        "colab": {
          "base_uri": "https://localhost:8080/"
        },
        "id": "bmc9NsqSayJP",
        "outputId": "014cd64a-0d25-4fd5-d523-259b52734396"
      },
      "source": [
        "answer = input(\"What is 2+2?\")\n",
        "type(answer)"
      ],
      "execution_count": null,
      "outputs": [
        {
          "name": "stdout",
          "output_type": "stream",
          "text": [
            "What is 2+2?4\n"
          ]
        },
        {
          "output_type": "execute_result",
          "data": {
            "text/plain": [
              "str"
            ]
          },
          "metadata": {},
          "execution_count": 4
        }
      ]
    },
    {
      "cell_type": "code",
      "metadata": {
        "colab": {
          "base_uri": "https://localhost:8080/",
          "height": 181
        },
        "id": "-mRoEf_7a6k5",
        "outputId": "a436116e-7996-4246-d576-7ab15b4d4ac5"
      },
      "source": [
        "ans_squared = answer**2\n",
        "print(ans_squared)"
      ],
      "execution_count": null,
      "outputs": [
        {
          "output_type": "error",
          "ename": "TypeError",
          "evalue": "ignored",
          "traceback": [
            "\u001b[0;31m---------------------------------------------------------------------------\u001b[0m",
            "\u001b[0;31mTypeError\u001b[0m                                 Traceback (most recent call last)",
            "\u001b[0;32m<ipython-input-9-eeb1db9a3b6d>\u001b[0m in \u001b[0;36m<module>\u001b[0;34m()\u001b[0m\n\u001b[0;32m----> 1\u001b[0;31m \u001b[0mans_squared\u001b[0m \u001b[0;34m=\u001b[0m \u001b[0manswer\u001b[0m\u001b[0;34m**\u001b[0m\u001b[0;36m2\u001b[0m\u001b[0;34m\u001b[0m\u001b[0;34m\u001b[0m\u001b[0m\n\u001b[0m\u001b[1;32m      2\u001b[0m \u001b[0mprint\u001b[0m\u001b[0;34m(\u001b[0m\u001b[0mans_squared\u001b[0m\u001b[0;34m)\u001b[0m\u001b[0;34m\u001b[0m\u001b[0;34m\u001b[0m\u001b[0m\n",
            "\u001b[0;31mTypeError\u001b[0m: unsupported operand type(s) for ** or pow(): 'str' and 'int'"
          ]
        }
      ]
    },
    {
      "cell_type": "code",
      "metadata": {
        "colab": {
          "base_uri": "https://localhost:8080/"
        },
        "id": "xXrXyAvmbFfa",
        "outputId": "6e769f0d-fa69-41fe-b018-b00daaeee117"
      },
      "source": [
        "ans_squared = int(answer)**2\n",
        "print(ans_squared)"
      ],
      "execution_count": null,
      "outputs": [
        {
          "output_type": "stream",
          "name": "stdout",
          "text": [
            "16\n"
          ]
        }
      ]
    },
    {
      "cell_type": "code",
      "metadata": {
        "colab": {
          "base_uri": "https://localhost:8080/"
        },
        "id": "cIKT59xjzvKZ",
        "outputId": "bc95a7ff-1356-4c8a-e363-53370edeea6e"
      },
      "source": [
        "range(0,4,2)"
      ],
      "execution_count": 16,
      "outputs": [
        {
          "output_type": "execute_result",
          "data": {
            "text/plain": [
              "range(0, 4, 2)"
            ]
          },
          "metadata": {},
          "execution_count": 16
        }
      ]
    },
    {
      "cell_type": "markdown",
      "metadata": {
        "id": "7Boy9wAIbohT"
      },
      "source": [
        "***Loops and Conditionals:***"
      ]
    },
    {
      "cell_type": "code",
      "metadata": {
        "colab": {
          "base_uri": "https://localhost:8080/"
        },
        "id": "7Gr6epYxbuIp",
        "outputId": "7bb1db8a-c51d-40eb-9fc8-ebb919f15cd2"
      },
      "source": [
        "x=3\n",
        "while x < 15:   #condition\n",
        "  print(x)      #action\n",
        "  x += 1       #adds 1 every time you run through the loop - (update condition)"
      ],
      "execution_count": 19,
      "outputs": [
        {
          "output_type": "stream",
          "name": "stdout",
          "text": [
            "3\n",
            "4\n",
            "5\n",
            "6\n",
            "7\n",
            "8\n",
            "9\n",
            "10\n",
            "11\n",
            "12\n",
            "13\n",
            "14\n"
          ]
        }
      ]
    },
    {
      "cell_type": "code",
      "metadata": {
        "id": "fepjCSpmcXEo",
        "colab": {
          "base_uri": "https://localhost:8080/"
        },
        "outputId": "6bface16-d562-4a6b-bb1e-04b4adcdd9df"
      },
      "source": [
        "for a in range(0,5,2):\n",
        "  print(a)"
      ],
      "execution_count": 21,
      "outputs": [
        {
          "output_type": "stream",
          "name": "stdout",
          "text": [
            "0\n",
            "2\n",
            "4\n"
          ]
        }
      ]
    },
    {
      "cell_type": "code",
      "metadata": {
        "colab": {
          "base_uri": "https://localhost:8080/"
        },
        "id": "N0vlpf96fBWg",
        "outputId": "a5c99168-cf78-42ae-b938-471c51661061"
      },
      "source": [
        "y = 'GoofleCollab'\n",
        "for a in y:\n",
        "  print(a)"
      ],
      "execution_count": 22,
      "outputs": [
        {
          "output_type": "stream",
          "name": "stdout",
          "text": [
            "G\n",
            "o\n",
            "o\n",
            "f\n",
            "l\n",
            "e\n",
            "C\n",
            "o\n",
            "l\n",
            "l\n",
            "a\n",
            "b\n"
          ]
        }
      ]
    },
    {
      "cell_type": "code",
      "metadata": {
        "colab": {
          "base_uri": "https://localhost:8080/"
        },
        "id": "hG10OhI3ejzd",
        "outputId": "2cf7214d-f272-4e61-9a41-68ec4900a4cd"
      },
      "source": [
        "answer = 4\n",
        "if answer == 3:    # '==' returns a boolean value\n",
        "  print('wow you are really good at math!')\n",
        "else:\n",
        "  print('get better at math please')"
      ],
      "execution_count": 23,
      "outputs": [
        {
          "output_type": "stream",
          "name": "stdout",
          "text": [
            "get better at math please\n"
          ]
        }
      ]
    },
    {
      "cell_type": "markdown",
      "metadata": {
        "id": "AypzKLF7fXZ0"
      },
      "source": [
        "***Lists - Basics and Accession***"
      ]
    },
    {
      "cell_type": "code",
      "metadata": {
        "colab": {
          "base_uri": "https://localhost:8080/"
        },
        "id": "bwnJNkKdfdmC",
        "outputId": "79aae3ef-dab3-4d9e-f06e-fcfb5616f30e"
      },
      "source": [
        "tuple1 = (0,1.5)\n",
        "list1 = ['a','b','c','d','e','f','g','h','i','j']\n",
        "\n",
        "\n",
        "print(list1[0])\n",
        "print(list1[1])"
      ],
      "execution_count": 30,
      "outputs": [
        {
          "output_type": "stream",
          "name": "stdout",
          "text": [
            "a\n",
            "b\n"
          ]
        }
      ]
    },
    {
      "cell_type": "code",
      "source": [
        "print(tuple1)\n",
        "print(list1)"
      ],
      "metadata": {
        "colab": {
          "base_uri": "https://localhost:8080/"
        },
        "id": "19AtFB7au_tj",
        "outputId": "c644c292-b608-400b-8393-911d2f003d7d"
      },
      "execution_count": 45,
      "outputs": [
        {
          "output_type": "stream",
          "name": "stdout",
          "text": [
            "(0, 1.5)\n",
            "['a', 'b', 'c', 'd', 'e', 'f', 'g', 'h', 'i', 'j', 1, 'z', 'z', 'z', 'z']\n"
          ]
        }
      ]
    },
    {
      "cell_type": "code",
      "metadata": {
        "colab": {
          "base_uri": "https://localhost:8080/"
        },
        "id": "RE3ahanHgNHr",
        "outputId": "3eef4965-b416-4467-f3a5-3bea59c8ab10"
      },
      "source": [
        "list1[2:5]"
      ],
      "execution_count": 31,
      "outputs": [
        {
          "output_type": "execute_result",
          "data": {
            "text/plain": [
              "['c', 'd', 'e']"
            ]
          },
          "metadata": {},
          "execution_count": 31
        }
      ]
    },
    {
      "cell_type": "code",
      "metadata": {
        "colab": {
          "base_uri": "https://localhost:8080/"
        },
        "id": "KudFlxp6gSZI",
        "outputId": "6780d486-1ce7-4274-d9f5-68edb4c1b37a"
      },
      "source": [
        "list1[:]"
      ],
      "execution_count": 44,
      "outputs": [
        {
          "output_type": "execute_result",
          "data": {
            "text/plain": [
              "['a', 'b', 'c', 'd', 'e', 'f', 'g', 'h', 'i', 'j', 1, 'z', 'z', 'z', 'z']"
            ]
          },
          "metadata": {},
          "execution_count": 44
        }
      ]
    },
    {
      "cell_type": "code",
      "metadata": {
        "colab": {
          "base_uri": "https://localhost:8080/"
        },
        "id": "UP_hkLhogWcx",
        "outputId": "9eda39a8-dfdb-461b-8d92-116826d8400a"
      },
      "source": [
        "list1[4:]"
      ],
      "execution_count": 34,
      "outputs": [
        {
          "output_type": "execute_result",
          "data": {
            "text/plain": [
              "['e', 'f', 'g', 'h', 'i', 'j']"
            ]
          },
          "metadata": {},
          "execution_count": 34
        }
      ]
    },
    {
      "cell_type": "code",
      "metadata": {
        "colab": {
          "base_uri": "https://localhost:8080/"
        },
        "id": "xAyTthBQgYwT",
        "outputId": "ff48f71a-46ea-4afb-abe6-e7ea1eed27f5"
      },
      "source": [
        "list1[:3]"
      ],
      "execution_count": null,
      "outputs": [
        {
          "output_type": "execute_result",
          "data": {
            "text/plain": [
              "['a', 'b', 'c']"
            ]
          },
          "metadata": {},
          "execution_count": 25
        }
      ]
    },
    {
      "cell_type": "code",
      "metadata": {
        "colab": {
          "base_uri": "https://localhost:8080/"
        },
        "id": "GDOY-v7bgnSV",
        "outputId": "c2528265-a79a-49ce-b3d7-f28896eff0d4"
      },
      "source": [
        "list1.append(1)\n",
        "list1"
      ],
      "execution_count": 46,
      "outputs": [
        {
          "output_type": "execute_result",
          "data": {
            "text/plain": [
              "['a', 'b', 'c', 'd', 'e', 'f', 'g', 'h', 'i', 'j', 1, 'z', 'z', 'z', 'z', 1]"
            ]
          },
          "metadata": {},
          "execution_count": 46
        }
      ]
    },
    {
      "cell_type": "code",
      "metadata": {
        "colab": {
          "base_uri": "https://localhost:8080/"
        },
        "id": "6XY-AV6pgrht",
        "outputId": "39cbb9f1-f0f3-4a24-e695-2c66851f6fea"
      },
      "source": [
        "list1.count(1)"
      ],
      "execution_count": 47,
      "outputs": [
        {
          "output_type": "execute_result",
          "data": {
            "text/plain": [
              "2"
            ]
          },
          "metadata": {},
          "execution_count": 47
        }
      ]
    },
    {
      "cell_type": "code",
      "metadata": {
        "colab": {
          "base_uri": "https://localhost:8080/"
        },
        "id": "2jigLV3Zgxdx",
        "outputId": "cf9df5f7-0e6c-4b43-e94e-0241302daad5"
      },
      "source": [
        "list1.remove(1)\n",
        "list1"
      ],
      "execution_count": 48,
      "outputs": [
        {
          "output_type": "execute_result",
          "data": {
            "text/plain": [
              "['a', 'b', 'c', 'd', 'e', 'f', 'g', 'h', 'i', 'j', 'z', 'z', 'z', 'z', 1]"
            ]
          },
          "metadata": {},
          "execution_count": 48
        }
      ]
    },
    {
      "cell_type": "code",
      "metadata": {
        "colab": {
          "base_uri": "https://localhost:8080/"
        },
        "id": "D07A-5Ttg3x7",
        "outputId": "7a413558-6534-4380-a3b1-8d6455245b89"
      },
      "source": [
        "list1.pop(1)\n",
        "list1"
      ],
      "execution_count": 49,
      "outputs": [
        {
          "output_type": "execute_result",
          "data": {
            "text/plain": [
              "['a', 'c', 'd', 'e', 'f', 'g', 'h', 'i', 'j', 'z', 'z', 'z', 'z', 1]"
            ]
          },
          "metadata": {},
          "execution_count": 49
        }
      ]
    },
    {
      "cell_type": "markdown",
      "metadata": {
        "id": "PMUQ6dEGhifv"
      },
      "source": [
        "***List Comprehension***"
      ]
    },
    {
      "cell_type": "code",
      "metadata": {
        "id": "8lWqI96jh8n1",
        "colab": {
          "base_uri": "https://localhost:8080/"
        },
        "outputId": "3501abbc-17fd-45bd-e402-99253b54e5fe"
      },
      "source": [
        "list_com = [a for a in range(0,100,10)]\n",
        "list_com"
      ],
      "execution_count": 54,
      "outputs": [
        {
          "output_type": "execute_result",
          "data": {
            "text/plain": [
              "[0, 10, 20, 30, 40, 50, 60, 70, 80, 90]"
            ]
          },
          "metadata": {},
          "execution_count": 54
        }
      ]
    },
    {
      "cell_type": "code",
      "metadata": {
        "colab": {
          "base_uri": "https://localhost:8080/"
        },
        "id": "yS562omkEZoM",
        "outputId": "10c7c4b2-f49c-42c0-b22e-835813f82db8"
      },
      "source": [
        "even = [k for k in range(0,20) if k%2==0]\n",
        "even"
      ],
      "execution_count": 55,
      "outputs": [
        {
          "output_type": "execute_result",
          "data": {
            "text/plain": [
              "[0, 2, 4, 6, 8, 10, 12, 14, 16, 18]"
            ]
          },
          "metadata": {},
          "execution_count": 55
        }
      ]
    },
    {
      "cell_type": "code",
      "metadata": {
        "colab": {
          "base_uri": "https://localhost:8080/"
        },
        "id": "A3YWYoAIEwUF",
        "outputId": "01b1981d-871c-4bff-8d04-adaae9c146ba"
      },
      "source": [
        "ev_odd = [\"Even\" if i%2==0 else \"odd\" for i in range(0,10,3)]\n",
        "ev_odd\n"
      ],
      "execution_count": 57,
      "outputs": [
        {
          "output_type": "execute_result",
          "data": {
            "text/plain": [
              "['Even', 'odd', 'Even', 'odd']"
            ]
          },
          "metadata": {},
          "execution_count": 57
        }
      ]
    },
    {
      "cell_type": "markdown",
      "metadata": {
        "id": "LY0ZDkIsE-aF"
      },
      "source": [
        "***Functions and Lambda***"
      ]
    },
    {
      "cell_type": "code",
      "metadata": {
        "colab": {
          "base_uri": "https://localhost:8080/"
        },
        "id": "R6fcLlG8FE4j",
        "outputId": "11204508-740c-42b8-ad55-b49576fe7ff6"
      },
      "source": [
        "def func(x):\n",
        "  print(x*3)\n",
        "func(9)\n"
      ],
      "execution_count": 62,
      "outputs": [
        {
          "output_type": "stream",
          "name": "stdout",
          "text": [
            "27\n"
          ]
        }
      ]
    },
    {
      "cell_type": "code",
      "metadata": {
        "colab": {
          "base_uri": "https://localhost:8080/"
        },
        "id": "p7lkIWfSFNdw",
        "outputId": "6e87d360-8e3a-48be-e9ed-75ab956ba88f"
      },
      "source": [
        "def func2(a):\n",
        "  return a**3\n",
        "ans = func2(5)\n",
        "ans"
      ],
      "execution_count": 64,
      "outputs": [
        {
          "output_type": "execute_result",
          "data": {
            "text/plain": [
              "125"
            ]
          },
          "metadata": {},
          "execution_count": 64
        }
      ]
    },
    {
      "cell_type": "code",
      "metadata": {
        "colab": {
          "base_uri": "https://localhost:8080/"
        },
        "id": "DEZdgvznFdAo",
        "outputId": "3b1021b7-7ead-43f4-d813-1ebdc7301676"
      },
      "source": [
        "def func3(a):\n",
        "  return a**2+19+69\n",
        "\n",
        "func3(12)"
      ],
      "execution_count": 65,
      "outputs": [
        {
          "output_type": "execute_result",
          "data": {
            "text/plain": [
              "232"
            ]
          },
          "metadata": {},
          "execution_count": 65
        }
      ]
    },
    {
      "cell_type": "code",
      "metadata": {
        "colab": {
          "base_uri": "https://localhost:8080/"
        },
        "id": "ydoSEikyFsck",
        "outputId": "5c990e1a-1054-4ea7-e3b2-7ad3b8196fe9"
      },
      "source": [
        "lam_fun = lambda x: x**3\n",
        "lam_fun(5)"
      ],
      "execution_count": 66,
      "outputs": [
        {
          "output_type": "execute_result",
          "data": {
            "text/plain": [
              "125"
            ]
          },
          "metadata": {},
          "execution_count": 66
        }
      ]
    },
    {
      "cell_type": "code",
      "source": [
        ""
      ],
      "metadata": {
        "id": "L39XRyElzJoA"
      },
      "execution_count": null,
      "outputs": []
    }
  ]
}